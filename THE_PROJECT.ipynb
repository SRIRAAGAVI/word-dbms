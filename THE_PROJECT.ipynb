{
  "nbformat": 4,
  "nbformat_minor": 0,
  "metadata": {
    "colab": {
      "provenance": [],
      "mount_file_id": "1vyny7JTX5vQYpnGD9f_TGj6izcNK4naZ",
      "authorship_tag": "ABX9TyPKpJtYt1fJdR8u1CU9/Je+",
      "include_colab_link": true
    },
    "kernelspec": {
      "name": "python3",
      "display_name": "Python 3"
    },
    "language_info": {
      "name": "python"
    }
  },
  "cells": [
    {
      "cell_type": "markdown",
      "metadata": {
        "id": "view-in-github",
        "colab_type": "text"
      },
      "source": [
        "<a href=\"https://colab.research.google.com/github/SRIRAAGAVI/word-dbms/blob/main/THE_PROJECT.ipynb\" target=\"_parent\"><img src=\"https://colab.research.google.com/assets/colab-badge.svg\" alt=\"Open In Colab\"/></a>"
      ]
    },
    {
      "cell_type": "code",
      "execution_count": null,
      "metadata": {
        "colab": {
          "base_uri": "https://localhost:8080/"
        },
        "id": "ES6MGsxPcAFu",
        "outputId": "0687c29e-425d-4049-b80f-88f5e5608677"
      },
      "outputs": [
        {
          "output_type": "stream",
          "name": "stdout",
          "text": [
            "Collecting opendatasets\n",
            "  Downloading opendatasets-0.1.22-py3-none-any.whl.metadata (9.2 kB)\n",
            "Requirement already satisfied: tqdm in /usr/local/lib/python3.10/dist-packages (from opendatasets) (4.66.6)\n",
            "Requirement already satisfied: kaggle in /usr/local/lib/python3.10/dist-packages (from opendatasets) (1.6.17)\n",
            "Requirement already satisfied: click in /usr/local/lib/python3.10/dist-packages (from opendatasets) (8.1.7)\n",
            "Requirement already satisfied: six>=1.10 in /usr/local/lib/python3.10/dist-packages (from kaggle->opendatasets) (1.16.0)\n",
            "Requirement already satisfied: certifi>=2023.7.22 in /usr/local/lib/python3.10/dist-packages (from kaggle->opendatasets) (2024.8.30)\n",
            "Requirement already satisfied: python-dateutil in /usr/local/lib/python3.10/dist-packages (from kaggle->opendatasets) (2.8.2)\n",
            "Requirement already satisfied: requests in /usr/local/lib/python3.10/dist-packages (from kaggle->opendatasets) (2.32.3)\n",
            "Requirement already satisfied: python-slugify in /usr/local/lib/python3.10/dist-packages (from kaggle->opendatasets) (8.0.4)\n",
            "Requirement already satisfied: urllib3 in /usr/local/lib/python3.10/dist-packages (from kaggle->opendatasets) (2.2.3)\n",
            "Requirement already satisfied: bleach in /usr/local/lib/python3.10/dist-packages (from kaggle->opendatasets) (6.2.0)\n",
            "Requirement already satisfied: webencodings in /usr/local/lib/python3.10/dist-packages (from bleach->kaggle->opendatasets) (0.5.1)\n",
            "Requirement already satisfied: text-unidecode>=1.3 in /usr/local/lib/python3.10/dist-packages (from python-slugify->kaggle->opendatasets) (1.3)\n",
            "Requirement already satisfied: charset-normalizer<4,>=2 in /usr/local/lib/python3.10/dist-packages (from requests->kaggle->opendatasets) (3.4.0)\n",
            "Requirement already satisfied: idna<4,>=2.5 in /usr/local/lib/python3.10/dist-packages (from requests->kaggle->opendatasets) (3.10)\n",
            "Downloading opendatasets-0.1.22-py3-none-any.whl (15 kB)\n",
            "Installing collected packages: opendatasets\n",
            "Successfully installed opendatasets-0.1.22\n",
            "Requirement already satisfied: pandas in /usr/local/lib/python3.10/dist-packages (2.2.2)\n",
            "Requirement already satisfied: numpy>=1.22.4 in /usr/local/lib/python3.10/dist-packages (from pandas) (1.26.4)\n",
            "Requirement already satisfied: python-dateutil>=2.8.2 in /usr/local/lib/python3.10/dist-packages (from pandas) (2.8.2)\n",
            "Requirement already satisfied: pytz>=2020.1 in /usr/local/lib/python3.10/dist-packages (from pandas) (2024.2)\n",
            "Requirement already satisfied: tzdata>=2022.7 in /usr/local/lib/python3.10/dist-packages (from pandas) (2024.2)\n",
            "Requirement already satisfied: six>=1.5 in /usr/local/lib/python3.10/dist-packages (from python-dateutil>=2.8.2->pandas) (1.16.0)\n"
          ]
        }
      ],
      "source": [
        "!pip install opendatasets\n",
        "!pip install pandas"
      ]
    },
    {
      "cell_type": "code",
      "source": [
        "import opendatasets as od\n",
        "import pandas\n",
        "\n",
        "od.download(\n",
        "\t\"https://www.kaggle.com/datasets/andrewcorum/steganalysis?select=landscape-pictures\")\n"
      ],
      "metadata": {
        "colab": {
          "base_uri": "https://localhost:8080/"
        },
        "id": "3XK0g50ScdVf",
        "outputId": "4e95d76f-0384-4cb0-cd08-2e0b4ffefbcb"
      },
      "execution_count": null,
      "outputs": [
        {
          "output_type": "stream",
          "name": "stdout",
          "text": [
            "Please provide your Kaggle credentials to download this dataset. Learn more: http://bit.ly/kaggle-creds\n",
            "Your Kaggle username: sriraagavi\n",
            "Your Kaggle Key: ··········\n",
            "Dataset URL: https://www.kaggle.com/datasets/andrewcorum/steganalysis\n",
            "Downloading steganalysis.zip to ./steganalysis\n"
          ]
        },
        {
          "output_type": "stream",
          "name": "stderr",
          "text": [
            "100%|██████████| 66.6M/66.6M [00:00<00:00, 101MB/s]\n"
          ]
        },
        {
          "output_type": "stream",
          "name": "stdout",
          "text": [
            "\n"
          ]
        }
      ]
    },
    {
      "cell_type": "markdown",
      "source": [
        "LSB"
      ],
      "metadata": {
        "id": "ldMlMPdnz0-g"
      }
    },
    {
      "cell_type": "code",
      "source": [
        "import cv2\n",
        "import os\n",
        "import numpy as np\n",
        "\n",
        "def text_to_binary(text):\n",
        "    \"\"\"Convert text to a binary string.\"\"\"\n",
        "    return ''.join(format(ord(char), '08b') for char in text)\n",
        "\n",
        "def embed_lsb(image_path, binary_payload, output_path):\n",
        "    \"\"\"\n",
        "    Embed a binary payload into an image using LSB steganography.\n",
        "    Args:\n",
        "    - image_path: Path to the input image.\n",
        "    - binary_payload: Binary string of the payload to embed.\n",
        "    - output_path: Path to save the output image.\n",
        "    \"\"\"\n",
        "    # Read the image\n",
        "    image = cv2.imread(image_path)\n",
        "    if image is None:\n",
        "        raise ValueError(f\"Unable to load image: {image_path}\")\n",
        "\n",
        "    # Get image dimensions\n",
        "    height, width, channels = image.shape\n",
        "    max_capacity = height * width * 3  # RGB has 3 channels per pixel\n",
        "\n",
        "    # Check payload size\n",
        "    if len(binary_payload) > max_capacity:\n",
        "        raise ValueError(\"Payload too large for the image capacity.\")\n",
        "\n",
        "    # Flatten the image array to iterate through all pixel values\n",
        "    flat_image = image.flatten()\n",
        "\n",
        "    # Embed the payload\n",
        "    for i in range(len(binary_payload)):\n",
        "        flat_image[i] = (flat_image[i] & 0xFE) | int(binary_payload[i])  # Modify only the LSB\n",
        "\n",
        "    # Reshape the modified array back to the original image shape\n",
        "    embedded_image = flat_image.reshape(height, width, channels)\n",
        "\n",
        "    # Save the stego image\n",
        "    cv2.imwrite(output_path, embedded_image)\n",
        "    print(f\"Payload embedded successfully: {output_path}\")\n",
        "\n",
        "def embed_payload_to_images(input_folder, payload, output_folder, num_images):\n",
        "    \"\"\"\n",
        "    Embed the payload into selected number of images in the folder using LSB.\n",
        "    Args:\n",
        "    - input_folder: Folder containing original images.\n",
        "    - payload: Text payload to embed.\n",
        "    - output_folder: Folder to save stego images.\n",
        "    - num_images: Number of images to process.\n",
        "    \"\"\"\n",
        "    # Convert the payload to binary\n",
        "    binary_payload = text_to_binary(payload)\n",
        "\n",
        "    # Get list of images\n",
        "    image_files = [f for f in os.listdir(input_folder) if f.endswith(('.jpg', '.jpeg', '.png'))]\n",
        "    image_files.sort()\n",
        "\n",
        "    # Create output folder if not exists\n",
        "    os.makedirs(output_folder, exist_ok=True)\n",
        "\n",
        "    # Process selected images\n",
        "    for i in range(min(num_images, len(image_files))):\n",
        "        input_path = os.path.join(input_folder, image_files[i])\n",
        "        output_path = os.path.join(output_folder, f\"stego_{image_files[i]}\")\n",
        "\n",
        "        # Embed payload into each image\n",
        "        embed_lsb(input_path, binary_payload, output_path)\n",
        "\n",
        "# Example usage\n",
        "input_folder = \"/content/steganalysis/landscape-pictures/cover\"  # Folder with original images\n",
        "output_folder = \"/content/steganalysis/landscape-pictures/output-LSB\"  # Folder to save stego images\n",
        "payload = \"This is a secret message\"  # Payload to embed\n",
        "num_images = 20  # Number of images to process\n",
        "\n",
        "# Embed payload into images\n",
        "embed_payload_to_images(input_folder, payload, output_folder, num_images)\n"
      ],
      "metadata": {
        "colab": {
          "base_uri": "https://localhost:8080/"
        },
        "id": "3zf-ZS-jfYgo",
        "outputId": "b628f93b-593d-41d7-a0c9-e6ff3215c358"
      },
      "execution_count": 26,
      "outputs": [
        {
          "output_type": "stream",
          "name": "stdout",
          "text": [
            "Payload embedded successfully: /content/steganalysis/landscape-pictures/output-LSB/stego_00000000.jpg\n",
            "Payload embedded successfully: /content/steganalysis/landscape-pictures/output-LSB/stego_00000000_(2).jpg\n",
            "Payload embedded successfully: /content/steganalysis/landscape-pictures/output-LSB/stego_00000000_(3).jpg\n",
            "Payload embedded successfully: /content/steganalysis/landscape-pictures/output-LSB/stego_00000000_(4).jpg\n",
            "Payload embedded successfully: /content/steganalysis/landscape-pictures/output-LSB/stego_00000000_(5).jpg\n",
            "Payload embedded successfully: /content/steganalysis/landscape-pictures/output-LSB/stego_00000000_(6).jpg\n",
            "Payload embedded successfully: /content/steganalysis/landscape-pictures/output-LSB/stego_00000000_(7).jpg\n",
            "Payload embedded successfully: /content/steganalysis/landscape-pictures/output-LSB/stego_00000001.jpg\n",
            "Payload embedded successfully: /content/steganalysis/landscape-pictures/output-LSB/stego_00000001_(2).jpg\n",
            "Payload embedded successfully: /content/steganalysis/landscape-pictures/output-LSB/stego_00000001_(3).jpg\n",
            "Payload embedded successfully: /content/steganalysis/landscape-pictures/output-LSB/stego_00000001_(4).jpg\n",
            "Payload embedded successfully: /content/steganalysis/landscape-pictures/output-LSB/stego_00000001_(5).jpg\n",
            "Payload embedded successfully: /content/steganalysis/landscape-pictures/output-LSB/stego_00000001_(6).jpg\n",
            "Payload embedded successfully: /content/steganalysis/landscape-pictures/output-LSB/stego_00000001_(7).jpg\n",
            "Payload embedded successfully: /content/steganalysis/landscape-pictures/output-LSB/stego_00000002.jpg\n",
            "Payload embedded successfully: /content/steganalysis/landscape-pictures/output-LSB/stego_00000002_(2).jpg\n",
            "Payload embedded successfully: /content/steganalysis/landscape-pictures/output-LSB/stego_00000002_(3).jpg\n",
            "Payload embedded successfully: /content/steganalysis/landscape-pictures/output-LSB/stego_00000002_(4).jpg\n",
            "Payload embedded successfully: /content/steganalysis/landscape-pictures/output-LSB/stego_00000002_(5).jpg\n",
            "Payload embedded successfully: /content/steganalysis/landscape-pictures/output-LSB/stego_00000002_(6).jpg\n"
          ]
        }
      ]
    },
    {
      "cell_type": "markdown",
      "source": [
        "Comparison of the original nd ebedded img = PSNR\n"
      ],
      "metadata": {
        "id": "ci0w9OUMf-YF"
      }
    },
    {
      "cell_type": "code",
      "source": [
        "import cv2\n",
        "import os\n",
        "import numpy as np\n",
        "\n",
        "def calculate_psnr(original, stego):\n",
        "    \"\"\"Calculate the PSNR between two images.\"\"\"\n",
        "    # Convert images to float32 for precise calculations\n",
        "    original = original.astype(np.float32)\n",
        "    stego = stego.astype(np.float32)\n",
        "\n",
        "    mse = np.mean((original - stego) ** 2)\n",
        "    if mse == 0:\n",
        "        return 100  # Infinite PSNR (practically a high value like 100)\n",
        "    max_pixel = 255.0  # Max pixel value for 8-bit images\n",
        "    psnr = 20 * np.log10(max_pixel / np.sqrt(mse))\n",
        "    return psnr\n",
        "\n",
        "def calculate_psnr_for_images(original_folder, stego_folder, num_images):\n",
        "    \"\"\"Calculate PSNR for a selected number of images from two folders.\"\"\"\n",
        "    # Get the list of image files in both folders\n",
        "    original_files = [f for f in os.listdir(original_folder) if f.endswith(('.jpg', '.jpeg', '.png'))]\n",
        "    stego_files = [f for f in os.listdir(stego_folder) if f.endswith(('.jpg', '.jpeg', '.png'))]\n",
        "\n",
        "    # Sort the files to ensure matching pairs (by name or order)\n",
        "    original_files.sort()\n",
        "    stego_files.sort()\n",
        "\n",
        "    # Process the selected number of images\n",
        "    for i in range(min(num_images, len(original_files), len(stego_files))):\n",
        "        original_path = os.path.join(original_folder, original_files[i])\n",
        "        stego_path = os.path.join(stego_folder, stego_files[i])\n",
        "\n",
        "        # Load the images\n",
        "        original_image = cv2.imread(original_path, cv2.IMREAD_COLOR)\n",
        "        stego_image = cv2.imread(stego_path, cv2.IMREAD_COLOR)\n",
        "\n",
        "        # Check if images were loaded correctly\n",
        "        if original_image is None:\n",
        "            print(f\"Error: Unable to load original image {original_files[i]}!\")\n",
        "            continue\n",
        "        if stego_image is None:\n",
        "            print(f\"Error: Unable to load stego image {stego_files[i]}!\")\n",
        "            continue\n",
        "\n",
        "        # Ensure both images are of the same size\n",
        "        if original_image.shape != stego_image.shape:\n",
        "            print(f\"Error: Images {original_files[i]} and {stego_files[i]} must have the same dimensions!\")\n",
        "            continue\n",
        "\n",
        "        # Calculate PSNR\n",
        "        psnr_value = calculate_psnr(original_image, stego_image)\n",
        "        print(f\"PSNR for {original_files[i]} and {stego_files[i]}: {psnr_value:.2f} dB\")\n",
        "\n",
        "# Example usage\n",
        "original_folder = \"/content/steganalysis/landscape-pictures/cover\"\n",
        "stego_folder = \"/content/steganalysis/landscape-pictures/output-LSB\"\n",
        "num_images = 20  # Number of image pairs to process\n",
        "\n",
        "# Calculate PSNR for the images\n",
        "calculate_psnr_for_images(original_folder, stego_folder, num_images)\n"
      ],
      "metadata": {
        "colab": {
          "base_uri": "https://localhost:8080/"
        },
        "id": "9_Fk2FjXgN0O",
        "outputId": "b4681320-9eb5-4d1e-f10b-04562a511fea"
      },
      "execution_count": 27,
      "outputs": [
        {
          "output_type": "stream",
          "name": "stdout",
          "text": [
            "PSNR for 00000000.jpg and stego_00000000.jpg: 46.38 dB\n",
            "PSNR for 00000000_(2).jpg and stego_00000000_(2).jpg: 42.28 dB\n",
            "PSNR for 00000000_(3).jpg and stego_00000000_(3).jpg: 34.96 dB\n",
            "PSNR for 00000000_(4).jpg and stego_00000000_(4).jpg: 43.08 dB\n",
            "PSNR for 00000000_(5).jpg and stego_00000000_(5).jpg: 40.06 dB\n",
            "PSNR for 00000000_(6).jpg and stego_00000000_(6).jpg: 37.21 dB\n",
            "PSNR for 00000000_(7).jpg and stego_00000000_(7).jpg: 46.82 dB\n",
            "PSNR for 00000001.jpg and stego_00000001.jpg: 36.78 dB\n",
            "PSNR for 00000001_(2).jpg and stego_00000001_(2).jpg: 38.37 dB\n",
            "PSNR for 00000001_(3).jpg and stego_00000001_(3).jpg: 38.41 dB\n",
            "PSNR for 00000001_(4).jpg and stego_00000001_(4).jpg: 43.96 dB\n",
            "PSNR for 00000001_(5).jpg and stego_00000001_(5).jpg: 34.82 dB\n",
            "PSNR for 00000001_(6).jpg and stego_00000001_(6).jpg: 40.84 dB\n",
            "PSNR for 00000001_(7).jpg and stego_00000001_(7).jpg: 45.98 dB\n",
            "PSNR for 00000002.jpg and stego_00000002.jpg: 30.80 dB\n",
            "PSNR for 00000002_(2).jpg and stego_00000002_(2).jpg: 33.93 dB\n",
            "PSNR for 00000002_(3).jpg and stego_00000002_(3).jpg: 34.05 dB\n",
            "PSNR for 00000002_(4).jpg and stego_00000002_(4).jpg: 35.19 dB\n",
            "PSNR for 00000002_(5).jpg and stego_00000002_(5).jpg: 51.86 dB\n",
            "PSNR for 00000002_(6).jpg and stego_00000002_(6).jpg: 38.49 dB\n"
          ]
        }
      ]
    },
    {
      "cell_type": "markdown",
      "source": [],
      "metadata": {
        "id": "XG481xlTinqk"
      }
    },
    {
      "cell_type": "code",
      "source": [
        "import cv2\n",
        "import os\n",
        "import numpy as np\n",
        "\n",
        "def embed_payload_into_image(image, payload, block_size=8):\n",
        "    # Ensure image is a multiple of the block size (if needed, pad the image)\n",
        "    h, w = image.shape\n",
        "    if h % block_size != 0 or w % block_size != 0:\n",
        "        h_new = (h // block_size) * block_size\n",
        "        w_new = (w // block_size) * block_size\n",
        "        image = image[:h_new, :w_new]\n",
        "\n",
        "    # Convert the payload into a binary array\n",
        "    binary_payload = ''.join(format(ord(c), '08b') for c in payload)\n",
        "\n",
        "    # Create an empty list to store the DCT blocks\n",
        "    dct_blocks = []\n",
        "    payload_index = 0\n",
        "\n",
        "    # Iterate through the image in blocks of 8x8\n",
        "    for i in range(0, h, block_size):\n",
        "        for j in range(0, w, block_size):\n",
        "            block = image[i:i + block_size, j:j + block_size]\n",
        "\n",
        "            # Apply DCT to the block\n",
        "            dct_block = cv2.dct(np.float32(block))\n",
        "\n",
        "            # Embed the payload in the DCT coefficients (low-frequency coefficients)\n",
        "            for x in range(block_size):\n",
        "                for y in range(block_size):\n",
        "                    if payload_index < len(binary_payload):\n",
        "                        # Modify the LSB of a DCT coefficient to embed the payload bit\n",
        "                        if binary_payload[payload_index] == '1':\n",
        "                            dct_block[x, y] = dct_block[x, y] + 1\n",
        "                        else:\n",
        "                            dct_block[x, y] = dct_block[x, y] - 1\n",
        "                        payload_index += 1\n",
        "\n",
        "            # Add the modified block to the list\n",
        "            dct_blocks.append(dct_block)\n",
        "\n",
        "    # Reconstruct the image from the modified DCT blocks\n",
        "    new_image = np.zeros_like(image, dtype=np.float32)\n",
        "    block_idx = 0\n",
        "    for i in range(0, h, block_size):\n",
        "        for j in range(0, w, block_size):\n",
        "            new_image[i:i + block_size, j:j + block_size] = cv2.idct(dct_blocks[block_idx])\n",
        "            block_idx += 1\n",
        "\n",
        "    # Normalize the new image to uint8 format\n",
        "    new_image = np.uint8(np.clip(new_image, 0, 255))\n",
        "\n",
        "    return new_image\n",
        "\n",
        "def embed_payload_in_images(input_folder, output_folder, payload, num_images, block_size=8):\n",
        "    # Create the output folder if it does not exist\n",
        "    os.makedirs(output_folder, exist_ok=True)\n",
        "\n",
        "    # Get the list of image files in the input folder\n",
        "    image_files = [f for f in os.listdir(input_folder) if f.endswith(('.jpg', '.jpeg', '.png'))]\n",
        "\n",
        "    # Process only the selected number of images\n",
        "    for idx, image_file in enumerate(image_files[:num_images]):\n",
        "        image_path = os.path.join(input_folder, image_file)\n",
        "        output_path = os.path.join(output_folder, f\"stego_{image_file}\")\n",
        "\n",
        "        # Read the image in grayscale\n",
        "        image = cv2.imread(image_path, cv2.IMREAD_GRAYSCALE)\n",
        "\n",
        "        if image is None:\n",
        "            print(f\"Skipping {image_file}: Unable to read the image.\")\n",
        "            continue\n",
        "\n",
        "        # Embed the payload\n",
        "        stego_image = embed_payload_into_image(image, payload, block_size)\n",
        "\n",
        "        # Save the stego image\n",
        "        cv2.imwrite(output_path, stego_image)\n",
        "        print(f\"Payload embedded into {image_file} and saved as {output_path}\")\n",
        "\n",
        "# Example usage\n",
        "input_folder = \"/content/steganalysis/landscape-pictures/cover\"\n",
        "output_folder = \"/content/steganalysis/landscape-pictures/output\"\n",
        "payload = \"This is a very secret msg which shoul be very confidentialto anyone\"\n",
        "num_images = 20  # Number of images to process\n",
        "\n",
        "# Embed the payload into the images\n",
        "embed_payload_in_images(input_folder, output_folder, payload, num_images)\n"
      ],
      "metadata": {
        "colab": {
          "base_uri": "https://localhost:8080/"
        },
        "id": "FTM8wS9IiX_u",
        "outputId": "fa2535e9-5688-4059-c44c-13d4ee41eebc"
      },
      "execution_count": 8,
      "outputs": [
        {
          "output_type": "stream",
          "name": "stdout",
          "text": [
            "Payload embedded into 00000351_(2).jpg and saved as /content/steganalysis/landscape-pictures/output/stego_00000351_(2).jpg\n",
            "Payload embedded into 00000355_(3).jpg and saved as /content/steganalysis/landscape-pictures/output/stego_00000355_(3).jpg\n",
            "Payload embedded into 00000506_(5).jpg and saved as /content/steganalysis/landscape-pictures/output/stego_00000506_(5).jpg\n",
            "Payload embedded into 00000083_(3).jpg and saved as /content/steganalysis/landscape-pictures/output/stego_00000083_(3).jpg\n",
            "Payload embedded into 00000143_(5).jpg and saved as /content/steganalysis/landscape-pictures/output/stego_00000143_(5).jpg\n",
            "Payload embedded into 00000114_(3).jpg and saved as /content/steganalysis/landscape-pictures/output/stego_00000114_(3).jpg\n",
            "Payload embedded into 00000370_(3).jpg and saved as /content/steganalysis/landscape-pictures/output/stego_00000370_(3).jpg\n",
            "Payload embedded into 00000426_(2).jpg and saved as /content/steganalysis/landscape-pictures/output/stego_00000426_(2).jpg\n",
            "Payload embedded into 00000070_(7).jpg and saved as /content/steganalysis/landscape-pictures/output/stego_00000070_(7).jpg\n",
            "Payload embedded into 00000719_(3).jpg and saved as /content/steganalysis/landscape-pictures/output/stego_00000719_(3).jpg\n",
            "Payload embedded into 00000253.jpg and saved as /content/steganalysis/landscape-pictures/output/stego_00000253.jpg\n",
            "Payload embedded into 00000396_(2).jpg and saved as /content/steganalysis/landscape-pictures/output/stego_00000396_(2).jpg\n",
            "Payload embedded into 00000458_(4).jpg and saved as /content/steganalysis/landscape-pictures/output/stego_00000458_(4).jpg\n",
            "Payload embedded into 00000238_(5).jpg and saved as /content/steganalysis/landscape-pictures/output/stego_00000238_(5).jpg\n",
            "Payload embedded into 00000001_(7).jpg and saved as /content/steganalysis/landscape-pictures/output/stego_00000001_(7).jpg\n",
            "Payload embedded into 00000390_(5).jpg and saved as /content/steganalysis/landscape-pictures/output/stego_00000390_(5).jpg\n",
            "Payload embedded into 00000251_(4).jpg and saved as /content/steganalysis/landscape-pictures/output/stego_00000251_(4).jpg\n",
            "Payload embedded into 00000594_(3).jpg and saved as /content/steganalysis/landscape-pictures/output/stego_00000594_(3).jpg\n",
            "Payload embedded into 00000761_(2).jpg and saved as /content/steganalysis/landscape-pictures/output/stego_00000761_(2).jpg\n",
            "Payload embedded into 00000731_(3).jpg and saved as /content/steganalysis/landscape-pictures/output/stego_00000731_(3).jpg\n"
          ]
        }
      ]
    },
    {
      "cell_type": "markdown",
      "source": [
        "comparison of the two dct imgs original and embedded =PSNR"
      ],
      "metadata": {
        "id": "Mg4BPCOhipUP"
      }
    },
    {
      "cell_type": "code",
      "source": [
        "import cv2\n",
        "import os\n",
        "import numpy as np\n",
        "\n",
        "def calculate_psnr(original, stego):\n",
        "    \"\"\"Calculate the PSNR between two images.\"\"\"\n",
        "    mse = np.mean((original - stego) ** 2)\n",
        "    if mse == 0:\n",
        "        return 100  # If images are identical, PSNR is infinite (returning 100 as a high value)\n",
        "    max_pixel = 255.0  # For 8-bit images\n",
        "    psnr = 20 * np.log10(max_pixel / np.sqrt(mse))\n",
        "    return psnr\n",
        "\n",
        "def calculate_psnr_for_images(original_folder, stego_folder, num_images):\n",
        "    \"\"\"Calculate PSNR for a selected number of images from two folders.\"\"\"\n",
        "    # Get the list of image files in both folders\n",
        "    original_files = [f for f in os.listdir(original_folder) if f.endswith(('.jpg', '.jpeg', '.png'))]\n",
        "    stego_files = [f for f in os.listdir(stego_folder) if f.endswith(('.jpg', '.jpeg', '.png'))]\n",
        "\n",
        "    # Sort the files to ensure matching pairs (by name or order)\n",
        "    original_files.sort()\n",
        "    stego_files.sort()\n",
        "\n",
        "    # Process the selected number of images\n",
        "    for i in range(min(num_images, len(original_files), len(stego_files))):\n",
        "        original_path = os.path.join(original_folder, original_files[i])\n",
        "        stego_path = os.path.join(stego_folder, stego_files[i])\n",
        "\n",
        "        # Load the images\n",
        "        original_image = cv2.imread(original_path)\n",
        "        stego_image = cv2.imread(stego_path)\n",
        "\n",
        "        # Check if images were loaded correctly\n",
        "        if original_image is None:\n",
        "            print(f\"Error: Unable to load original image {original_files[i]}!\")\n",
        "            continue\n",
        "        if stego_image is None:\n",
        "            print(f\"Error: Unable to load stego image {stego_files[i]}!\")\n",
        "            continue\n",
        "\n",
        "        # Ensure both images are of the same size\n",
        "        if original_image.shape != stego_image.shape:\n",
        "            print(f\"Error: Images {original_files[i]} and {stego_files[i]} must have the same dimensions!\")\n",
        "            continue\n",
        "\n",
        "        # Calculate PSNR\n",
        "        psnr_value = calculate_psnr(original_image, stego_image)\n",
        "        print(f\"PSNR for {original_files[i]} and {stego_files[i]}: {psnr_value:.2f} dB\")\n",
        "\n",
        "# Example usage\n",
        "original_folder = \"/content/steganalysis/landscape-pictures/cover\"\n",
        "stego_folder = \"/content/steganalysis/landscape-pictures/output-DCT\"\n",
        "num_images = 20  # Number of image pairs to process\n",
        "\n",
        "# Calculate PSNR for the images\n",
        "calculate_psnr_for_images(original_folder, stego_folder, num_images)\n"
      ],
      "metadata": {
        "colab": {
          "base_uri": "https://localhost:8080/"
        },
        "id": "qd-T2aiii0qQ",
        "outputId": "c6756621-11a2-4886-f263-641df7b0760c"
      },
      "execution_count": 10,
      "outputs": [
        {
          "output_type": "stream",
          "name": "stdout",
          "text": [
            "PSNR for 00000000.jpg and stego_00000001_(7).jpg: 27.91 dB\n",
            "PSNR for 00000000_(2).jpg and stego_00000070_(7).jpg: 27.87 dB\n",
            "PSNR for 00000000_(3).jpg and stego_00000083_(3).jpg: 27.99 dB\n",
            "PSNR for 00000000_(4).jpg and stego_00000114_(3).jpg: 27.96 dB\n",
            "PSNR for 00000000_(5).jpg and stego_00000143_(5).jpg: 27.87 dB\n",
            "PSNR for 00000000_(6).jpg and stego_00000238_(5).jpg: 27.94 dB\n",
            "PSNR for 00000000_(7).jpg and stego_00000251_(4).jpg: 27.90 dB\n",
            "PSNR for 00000001.jpg and stego_00000253.jpg: 28.01 dB\n",
            "PSNR for 00000001_(2).jpg and stego_00000351_(2).jpg: 27.81 dB\n",
            "PSNR for 00000001_(3).jpg and stego_00000355_(3).jpg: 27.79 dB\n",
            "PSNR for 00000001_(4).jpg and stego_00000370_(3).jpg: 27.92 dB\n",
            "PSNR for 00000001_(5).jpg and stego_00000390_(5).jpg: 27.94 dB\n",
            "PSNR for 00000001_(6).jpg and stego_00000396_(2).jpg: 27.90 dB\n",
            "PSNR for 00000001_(7).jpg and stego_00000426_(2).jpg: 27.81 dB\n",
            "PSNR for 00000002.jpg and stego_00000458_(4).jpg: 27.93 dB\n",
            "PSNR for 00000002_(2).jpg and stego_00000506_(5).jpg: 27.91 dB\n",
            "PSNR for 00000002_(3).jpg and stego_00000594_(3).jpg: 28.01 dB\n",
            "PSNR for 00000002_(4).jpg and stego_00000719_(3).jpg: 27.89 dB\n",
            "PSNR for 00000002_(5).jpg and stego_00000731_(3).jpg: 28.03 dB\n",
            "PSNR for 00000002_(6).jpg and stego_00000761_(2).jpg: 27.88 dB\n"
          ]
        }
      ]
    },
    {
      "cell_type": "code",
      "source": [
        "import shutil\n",
        "\n",
        "shutil.rmtree('/content/steganalysis/landscape-pictures/output-LSB')"
      ],
      "metadata": {
        "id": "S8Sl4dBoyGSG"
      },
      "execution_count": 25,
      "outputs": []
    }
  ]
}